{
 "cells": [
  {
   "cell_type": "code",
   "execution_count": 236,
   "metadata": {
    "collapsed": true
   },
   "outputs": [],
   "source": [
    "import requests\n",
    "from bs4 import BeautifulSoup\n",
    "import re\n",
    "from time import sleep\n",
    "import pandas as pd"
   ]
  },
  {
   "cell_type": "code",
   "execution_count": 239,
   "metadata": {
    "collapsed": true,
    "scrolled": false
   },
   "outputs": [],
   "source": [
    "total_page = 51\n",
    "for p in range(1,total_page):\n",
    "    if p==1:\n",
    "        #抓第一頁\n",
    "        url_link = 'https://www.channelcrawler.com/eng/results/26787/sort:Channel.subscribers/direction:desc'\n",
    "    else:\n",
    "        #抓第2-末頁\n",
    "        url_link = 'https://www.channelcrawler.com/eng/results/26787/page:'+ str(p) +'/sort:Channel.subscribers/direction:desc'\n",
    "\n",
    "    resn = requests.get(url_link)\n",
    "    soup = BeautifulSoup(resn.text, 'html5lib')\n",
    "    item = soup.find_all(href = re.compile('www.youtube.com'))\n",
    "    sleep(5)\n",
    "    \n",
    "    g=0\n",
    "    yid=[]\n",
    "    yname=[]\n",
    "\n",
    "    for temp in item:\n",
    "        g+=1\n",
    "        if g%3==1:\n",
    "            yid.append(str(temp)[40:64])\n",
    "            yname.append(temp.get('title'))\n",
    "        else:\n",
    "            continue"
   ]
  },
  {
   "cell_type": "code",
   "execution_count": 240,
   "metadata": {
    "collapsed": true
   },
   "outputs": [],
   "source": [
    "ytid = pd.DataFrame({\n",
    "    'ID':yid,\n",
    "    'NAME':yname\n",
    "})"
   ]
  },
  {
   "cell_type": "code",
   "execution_count": 241,
   "metadata": {
    "collapsed": true
   },
   "outputs": [],
   "source": [
    "ytid.to_csv('ytid.csv', sep=',', encoding='utf-8', mode='w')"
   ]
  },
  {
   "cell_type": "code",
   "execution_count": null,
   "metadata": {
    "collapsed": true
   },
   "outputs": [],
   "source": []
  },
  {
   "cell_type": "code",
   "execution_count": null,
   "metadata": {
    "collapsed": true
   },
   "outputs": [],
   "source": []
  },
  {
   "cell_type": "code",
   "execution_count": null,
   "metadata": {
    "collapsed": true
   },
   "outputs": [],
   "source": [
    "# HongKong\n",
    "'https://www.channelcrawler.com/eng/results/35120/sort:Channel.subscribers/direction:desc'\n",
    "'https://www.channelcrawler.com/eng/results/35120/page:%d/sort:Channel.subscribers/direction:desc' % (p)\n",
    "# Japan\n",
    "'https://www.channelcrawler.com/eng/results/35121/sort:Channel.subscribers/direction:desc'\n",
    "'https://www.channelcrawler.com/eng/results/35121/page:%d/sort:Channel.subscribers/direction:desc' % (p)\n",
    "# South Korea\n",
    "'https://www.channelcrawler.com/eng/results/35122/sort:Channel.subscribers/direction:desc'\n",
    "'https://www.channelcrawler.com/eng/results/35122/page:%d/sort:Channel.subscribers/direction:desc' % (p)"
   ]
  },
  {
   "cell_type": "code",
   "execution_count": 1,
   "metadata": {
    "collapsed": true
   },
   "outputs": [],
   "source": [
    "# 測試\n",
    "# 抓facebook粉絲團連結"
   ]
  },
  {
   "cell_type": "code",
   "execution_count": null,
   "metadata": {
    "collapsed": true
   },
   "outputs": [],
   "source": [
    "for p in range(2,5):\n",
    "    #抓第3頁\n",
    "    url_link = 'https://www.channelcrawler.com/eng/results/26787/page:'+ str(p) +'/sort:Channel.subscribers/direction:desc'\n",
    "    resn1 = requests.get(url_link)\n",
    "    soup1 = BeautifulSoup(resn1.text, 'html5lib')\n",
    "    item1 = soup1.find_all(href = re.compile('www.youtube.com'))\n",
    "    sleep(5)\n",
    "\n",
    "    for temp in item1:\n",
    "    g+=1\n",
    "    if g%3==1:\n",
    "        yid.append(str(temp)[40:64])\n",
    "        yname.append(temp.get('title'))\n",
    "    else:\n",
    "        continue\n",
    "\n"
   ]
  }
 ],
 "metadata": {
  "kernelspec": {
   "display_name": "Python 3",
   "language": "python",
   "name": "python3"
  },
  "language_info": {
   "codemirror_mode": {
    "name": "ipython",
    "version": 3
   },
   "file_extension": ".py",
   "mimetype": "text/x-python",
   "name": "python",
   "nbconvert_exporter": "python",
   "pygments_lexer": "ipython3",
   "version": "3.6.1"
  }
 },
 "nbformat": 4,
 "nbformat_minor": 2
}
